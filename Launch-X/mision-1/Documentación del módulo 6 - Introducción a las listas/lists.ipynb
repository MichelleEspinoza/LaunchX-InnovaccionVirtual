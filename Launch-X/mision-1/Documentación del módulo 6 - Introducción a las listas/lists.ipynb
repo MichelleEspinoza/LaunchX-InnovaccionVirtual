{
 "cells": [
  {
   "cell_type": "markdown",
   "metadata": {},
   "source": [
    "# Listas en Python"
   ]
  },
  {
   "cell_type": "code",
   "execution_count": 7,
   "metadata": {},
   "outputs": [
    {
     "name": "stdout",
     "output_type": "stream",
     "text": [
      "The first planet is Mercury | The second planet is Venus | The third planet is Earth \n",
      "\n",
      "Mars is also known as Red Planet \n",
      "\n",
      "There are 8 planets in the solar system.\n",
      "\n",
      "There are actually 9 planets in the solar system.\n",
      "\n",
      "No, there are definitely 8 planets in the solar system.\n"
     ]
    }
   ],
   "source": [
    "#Crear una lista\n",
    "''' planets = ['Mercury', 'Venus', 'Earth', 'Mars', 'Jupiter', 'Saturn', 'Uranus', 'Neptune']\n",
    "#Acceder por INDICE\n",
    "print('The first planet is', planets[0],'| The second planet is', planets[1],'| The third planet is', planets[2],'\\n')\n",
    "#Modificar elemento con indice \n",
    "planets[3] = 'Red Planet'\n",
    "print('Mars is also known as', planets[3],'\\n')\n",
    "#Longitud de la lista\n",
    "number_of_planets = len(planets)\n",
    "print('There are', number_of_planets, 'planets in the solar system.\\n')\n",
    "\n",
    "#Agregar valores a las listas\n",
    "planets.append('Pluto')\n",
    "number_of_planets = len(planets)\n",
    "print('There are actually', number_of_planets, 'planets in the solar system.\\n')\n",
    "\n",
    "#Eliminar valores de una lista\n",
    "planets.pop()  # Goodbye, Pluto\n",
    "number_of_planets = len(planets)\n",
    "print('No, there are definitely', number_of_planets, 'planets in the solar system.') '''"
   ]
  },
  {
   "cell_type": "code",
   "execution_count": 12,
   "metadata": {},
   "outputs": [
    {
     "name": "stdout",
     "output_type": "stream",
     "text": [
      "The last planet is Neptune\n",
      "The penultimate planet is Uranus \n",
      "\n",
      "Jupiter is the 4 planet from the sun\n"
     ]
    }
   ],
   "source": [
    "#Indices negativos\n",
    "#Los índices comienzan en cero y aumentan. Los índices negativos comienzan al final de la lista y trabajan hacia atrás.\n",
    "#ejemplo siguiente, un índice de -1 devuelve el último elemento de una lista. Un índice de -2 retorna del penúltimo al último.\n",
    "''' print('The last planet is', planets[-1])\n",
    "print('The penultimate planet is', planets[-2],'\\n')\n",
    "\n",
    "#Buscar un valor en una lista\n",
    "jupiter_index = planets.index('Jupiter')\n",
    "print('Jupiter is the', jupiter_index + 1, 'planet from the sun') '''"
   ]
  },
  {
   "cell_type": "markdown",
   "metadata": {},
   "source": [
    "##### Trabajar con números en listas"
   ]
  },
  {
   "cell_type": "code",
   "execution_count": 14,
   "metadata": {},
   "outputs": [
    {
     "name": "stdout",
     "output_type": "stream",
     "text": [
      "On Earth, a double-decker bus weighs 12650 kg\n",
      "On Mercury, a double-decker bus weighs 4781.7 kg \n",
      "\n",
      "On Earth, a double-decker bus weighs 12650 kg\n",
      "The lightest a bus would be in the solar system is 4781.7 kg\n",
      "The heaviest a bus would be in the solar system is 29854.0 kg\n"
     ]
    }
   ],
   "source": [
    "'''gravity_on_planets = [0.378, 0.907, 1, 0.379, 2.36, 0.916, 0.889, 1.12]\n",
    "#peso de un bus de dos pisos en diferentes planetas obteniendo el valor de la lista:\n",
    "bus_weight = 12650 # in kilograms, on Earth\n",
    "\n",
    "print('On Earth, a double-decker bus weighs', bus_weight, 'kg')\n",
    "print('On Mercury, a double-decker bus weighs', bus_weight * gravity_on_planets[0], 'kg','\\n')\n",
    "\n",
    "#min() y max () con listas\n",
    "#Calcula los pesos mínimos y máximos en el sistema solar mediante el uso de esas funciones:\n",
    "bus_weight = 12650 # in kilograms, on Earth\n",
    "\n",
    "print('On Earth, a double-decker bus weighs', bus_weight, 'kg')\n",
    "print('The lightest a bus would be in the solar system is', bus_weight * min(gravity_on_planets), 'kg')\n",
    "print('The heaviest a bus would be in the solar system is', bus_weight * max(gravity_on_planets), 'kg')'''"
   ]
  },
  {
   "cell_type": "markdown",
   "metadata": {},
   "source": [
    "##### Manipular datos de lista"
   ]
  },
  {
   "cell_type": "code",
   "execution_count": 19,
   "metadata": {},
   "outputs": [
    {
     "name": "stdout",
     "output_type": "stream",
     "text": [
      "['Mercury', 'Venus']\n",
      "['Mars', 'Jupiter', 'Saturn', 'Uranus', 'Neptune']\n"
     ]
    }
   ],
   "source": [
    "#slicing (examinando solo una parte) y el sorting.\n",
    "\n",
    "#slice (Entendamos slice como una porción, un pedacito, un fragmento, segmento.).\n",
    "#La lista de planetas tiene ocho elementos. La Tierra es la tercera en la lista. Para obtener los planetas antes que la Tierra, use\n",
    "# un slice para obtener elementos que comienzan en 0 y terminan en 2:\n",
    "'''planets = ['Mercury', 'Venus', 'Earth', 'Mars', 'Jupiter', 'Saturn', 'Uranus', 'Neptune']\n",
    "planets_before_earth = planets[0:2]\n",
    "print(planets_before_earth)\n",
    "\n",
    "#Para obtener todos los planetas después de la Tierra, comenzamos en el tercero y vamos al octavo:\n",
    "planets_after_earth = planets[3:8]  #lo mismo #planets_after_earth = planets[3:]\n",
    "print(planets_after_earth) '''\n"
   ]
  },
  {
   "cell_type": "markdown",
   "metadata": {},
   "source": [
    "##### Uniendo listas"
   ]
  },
  {
   "cell_type": "code",
   "execution_count": 21,
   "metadata": {},
   "outputs": [
    {
     "name": "stdout",
     "output_type": "stream",
     "text": [
      "The regular satellite moons of Jupiter are ['Metis', 'Adrastea', 'Amalthea', 'Thebe', 'Io', 'Europa', 'Ganymede', 'Callisto']\n",
      "The regular satellite moons of Jupiter are ['Adrastea', 'Amalthea', 'Callisto', 'Europa', 'Ganymede', 'Io', 'Metis', 'Thebe']\n",
      "The regular satellite moons of Jupiter are ['Thebe', 'Metis', 'Io', 'Ganymede', 'Europa', 'Callisto', 'Amalthea', 'Adrastea']\n"
     ]
    }
   ],
   "source": [
    "'''amalthea_group = ['Metis', 'Adrastea', 'Amalthea', 'Thebe']\n",
    "galilean_moons = ['Io', 'Europa', 'Ganymede', 'Callisto']\n",
    "#unir\n",
    "regular_satellite_moons = amalthea_group + galilean_moons\n",
    "print('The regular satellite moons of Jupiter are', regular_satellite_moons)\n",
    "\n",
    "#Ordenar listas:metodo sort\n",
    "regular_satellite_moons.sort()\n",
    "print(\"The regular satellite moons of Jupiter are\", regular_satellite_moons)\n",
    "\n",
    "##orden inverso\n",
    "regular_satellite_moons.sort(reverse=True)\n",
    "print(\"The regular satellite moons of Jupiter are\", regular_satellite_moons)'''"
   ]
  },
  {
   "cell_type": "markdown",
   "metadata": {},
   "source": [
    "##### Notas\n",
    "###### .strip(_) //eliminar espacios en cadena\n",
    "###### .lstrip(_) //eliminar espacios en cadena al inicio(left)\n",
    "\n",
    "###### .rstrip(_) //eliminar espacios en cadena al final(right)\n",
    "###### .insert(_,_) //puede llevar la posición donde queremos insertar y aun lado el valor a insertar\n",
    "###### .append(_) //inserta el valor\n",
    "###### .top(_) //saca el dato por posicion\n",
    "###### .remove(_) //saca el dato por valor"
   ]
  },
  {
   "cell_type": "markdown",
   "metadata": {},
   "source": [
    "# Ejercicios"
   ]
  },
  {
   "cell_type": "markdown",
   "metadata": {},
   "source": [
    "#### Ejercicio1: Crear y usar listas de Python"
   ]
  },
  {
   "cell_type": "code",
   "execution_count": 1,
   "metadata": {},
   "outputs": [
    {
     "name": "stdout",
     "output_type": "stream",
     "text": [
      "Cantidad de planetas: 8\n",
      "Último elemento: Plutón\n"
     ]
    }
   ],
   "source": [
    "#Usar listas para almacenar nombres de planetas\n",
    "#En primer lugar, crea una variable denominada planets. Agrega los ocho planetas (sin Plutón) a la lista. \n",
    "# A continuación, muestra el número de planetas.\n",
    "# Creamos la lista planets y la mostramos\n",
    "planets = ['Mercurio', 'Venus', 'Tierra', 'Marte', 'Jupiter', 'Saturno', 'Urano', 'Neptuno']\n",
    "print('Cantidad de planetas:',len(planets))\n",
    "\n",
    "#Agrega a Plutón a la lista que creaste. Luego muestra tanto el número de planetas como el último planeta de la lista.\n",
    "# Agregamos a plutón y mostramos el último elemento\n",
    "planets.append('Plutón')\n",
    "print('Último elemento:',planets[-1])"
   ]
  },
  {
   "cell_type": "markdown",
   "metadata": {},
   "source": [
    "#### Ejercicio 2: Trabajando con datos de una lista"
   ]
  },
  {
   "cell_type": "code",
   "execution_count": 6,
   "metadata": {},
   "outputs": [
    {
     "name": "stdout",
     "output_type": "stream",
     "text": [
      "El planeta esta en  3\n",
      "Los Planetas mas cercano al sol son:  ['Mercury', 'Venus']\n"
     ]
    }
   ],
   "source": [
    "#Usar slices para recuperar partes de una lista\n",
    "#queremos mostrar planetas más cerca y más lejos del sol de un planeta que el usuario ingresa por teclado.\n",
    "#Comienza agregando el código para crear una lista con los planetas.\n",
    "# Lista de planetas\n",
    "planets = ['Mercury', 'Venus', 'Earth', 'Mars', 'Jupiter', 'Saturn', 'Neptune']\n",
    "# agrega el código para solicitar al usuario un nombre. Debido a que las cadenas distinguen entre mayúsculas y minúsculas en Python\n",
    "#  pídale al usuario que use una letra mayúscula para comenzar el nombre del planeta.\n",
    "# Solicitamos el nombre de un planeta *Pista:  input()*\n",
    "newPlanet = input(\"Inserte nombre de planeta (Primera letra en mayuscula, letras siguientes en minuscula) :\")\n",
    "# Para determinar qué planetas están más cerca que el que ingresó el usuario, debes encontrar dónde está el planeta en la lista.\n",
    "# Puedes utilizar index para realizar esta operación. Agrega el código para encontrar el índice del planeta.\n",
    "# Busca el planeta en la lista\n",
    "newPlanet_index = planets.index(newPlanet)\n",
    "print('El planeta esta en ', newPlanet_index + 1,)\n",
    "#Con el índice determinado, ahora puedes agregar el código para mostrar los planetas más cercanos al sol.\n",
    "# Muestra los planetas más cercanos al sol\n",
    "print(\"Los Planetas mas cercano al sol son: \",planets[0:newPlanet_index])"
   ]
  },
  {
   "cell_type": "code",
   "execution_count": 8,
   "metadata": {},
   "outputs": [
    {
     "name": "stdout",
     "output_type": "stream",
     "text": [
      "El planeta esta en  3\n",
      "Los Planetas mas cercanos al sol son:  ['Mercury', 'Venus']\n",
      "Los Planetas mas lejanos al sol son:  ['Mars', 'Jupiter', 'Saturn', 'Neptune']\n"
     ]
    }
   ],
   "source": [
    "#Usar slices para recuperar partes de una lista\n",
    "#queremos mostrar planetas más cerca y más lejos del sol de un planeta que el usuario ingresa por teclado.\n",
    "#Comienza agregando el código para crear una lista con los planetas.\n",
    "# Lista de planetas\n",
    "planets = ['Mercury', 'Venus', 'Earth', 'Mars', 'Jupiter', 'Saturn', 'Neptune']\n",
    "# agrega el código para solicitar al usuario un nombre. Debido a que las cadenas distinguen entre mayúsculas y minúsculas en Python\n",
    "#  pídale al usuario que use una letra mayúscula para comenzar el nombre del planeta.\n",
    "# Solicitamos el nombre de un planeta *Pista:  input()*\n",
    "newPlanet = input(\"Inserte nombre de planeta (Primera letra en mayuscula, letras siguientes en minuscula) :\")\n",
    "# Para determinar qué planetas están más cerca que el que ingresó el usuario, debes encontrar dónde está el planeta en la lista.\n",
    "# Puedes utilizar index para realizar esta operación. Agrega el código para encontrar el índice del planeta.\n",
    "# Busca el planeta en la lista\n",
    "newPlanet_index = planets.index(newPlanet)\n",
    "print('El planeta esta en ', newPlanet_index + 1,)\n",
    "#Con el índice determinado, ahora puedes agregar el código para mostrar los planetas más cercanos al sol.\n",
    "# Muestra los planetas más cercanos al sol\n",
    "planets_cercanos_sol = planets[0:newPlanet_index]\n",
    "print(\"Los Planetas mas cercanos al sol son: \",planets_cercanos_sol)\n",
    "# Planetas más alejados del sol. Sin embargo, recuerda que el índice inicial se incluye cuando usas un slice. \n",
    "# Como resultado, tendrás que agregar 1 al valor. Agrega el código para mostrar los planetas más alejados del sol.\n",
    "# Muestra los planetas más lejanos al sol\n",
    "planets_lejanos_sol = planets[newPlanet_index+1:]\n",
    "print(\"Los Planetas mas lejanos al sol son: \",planets_lejanos_sol)"
   ]
  }
 ],
 "metadata": {
  "interpreter": {
   "hash": "2018ecb90513b3a4c40524d20ffc376e67ae595239360bb04ac9f68eddc07e82"
  },
  "kernelspec": {
   "display_name": "Python 3.10.2 64-bit",
   "language": "python",
   "name": "python3"
  },
  "language_info": {
   "codemirror_mode": {
    "name": "ipython",
    "version": 3
   },
   "file_extension": ".py",
   "mimetype": "text/x-python",
   "name": "python",
   "nbconvert_exporter": "python",
   "pygments_lexer": "ipython3",
   "version": "3.10.2"
  },
  "orig_nbformat": 4
 },
 "nbformat": 4,
 "nbformat_minor": 2
}
