{
 "cells": [
  {
   "cell_type": "markdown",
   "metadata": {},
   "source": [
    "# Errores\n",
    "##### Tracebacks"
   ]
  },
  {
   "cell_type": "code",
   "execution_count": 6,
   "metadata": {},
   "outputs": [],
   "source": [
    "#Si intentamos en un notebook, abrir un archivo inexistente sucede lo siguiente:\n",
    "#open(\"/path/to/mars.jpg\") genera error pues no existe\n",
    "\n",
    "#creamos archivo open.py y ejecutamos vease (Documentación del módulo 10 - Manejo de errores\\open.py)\n",
    "#vease(Documentación del módulo 10 - Manejo de errores\\error-open.py-terminal.PNG)"
   ]
  },
  {
   "cell_type": "code",
   "execution_count": 10,
   "metadata": {},
   "outputs": [
    {
     "name": "stdout",
     "output_type": "stream",
     "text": [
      "Couldn't find the config.txt file!\n"
     ]
    }
   ],
   "source": [
    "#Controlando las excepciones\n",
    "    #Try y Except de los bloques\n",
    "#Sabemos que, si no existe un archivo o directorio, se genera FileNotFoundError. Si queremos controlar esa excepción,\n",
    "#  podemos hacerlo con un bloque try y except:\n",
    "try:\n",
    "    #open('config.txt')\n",
    "    open('config.txt')\n",
    "except FileNotFoundError:\n",
    "    print(\"Couldn't find the config.txt file!\")"
   ]
  },
  {
   "cell_type": "code",
   "execution_count": 15,
   "metadata": {},
   "outputs": [
    {
     "name": "stdout",
     "output_type": "stream",
     "text": [
      "got a problem trying to read the file: [Errno 2] No such file or directory: 'mars.jpg'\n",
      "Couldn't find the config.txt file!\n"
     ]
    }
   ],
   "source": [
    "# Sugerencia\n",
    "#Aunque puedes agrupar excepciones, solo debes hacerlo cuando no sea necesario controlarlas individualmente. \n",
    "# Evita agrupar muchas excepciones para proporcionar un mensaje de error generalizado.\n",
    "try:\n",
    "    open(\"mars.jpg\")\n",
    "except FileNotFoundError as err: #as err significa que err se convierte en una variable con el objeto de excepción como valor. \n",
    "    print(\"got a problem trying to read the file:\", err)\n",
    "\n",
    "#si detecta una excepción OSError más genérica, que es la excepción primaria de FilenotFoundError y PermissionError,\n",
    "#  podemos diferenciarlas mediante el atributo .errno:\n",
    "try:\n",
    "    open(\"configt.txt\")\n",
    "except OSError as err:\n",
    "    if err.errno == 2:\n",
    "        print(\"Couldn't find the config.txt file!\")\n",
    "    elif err.errno == 13:\n",
    "        print(\"Found config.txt but couldn't read it\")\n"
   ]
  },
  {
   "cell_type": "code",
   "execution_count": null,
   "metadata": {},
   "outputs": [],
   "source": [
    "#Generación de excepciones\n",
    "\n",
    "# Los astronautas limitan su uso de agua a unos 11 litros al día. Vamos a crear una función que, con base al número\n",
    "#  de astronautas, pueda calcular la cantidad de agua quedará después de un día o más:\n",
    "\n",
    "def water_left(astronauts, water_left, days_left):\n",
    "    daily_usage = astronauts * 11\n",
    "    total_usage = daily_usage * days_left\n",
    "    total_water_left = water_left - total_usage\n",
    "    message=f\"Total water left after {days_left} days is: {total_water_left} liters\" \n",
    "    return message\n",
    "\n",
    "# Probemos con cinco astronautas, 100 litros de agua sobrante y dos días:\n",
    "water_left(5, 100, 2)\n",
    "\n",
    "# generar una excepción en la función water_left() para alertar de la condición de error:\n",
    "'''\n",
    "def water_left(astronauts, water_left, days_left):\n",
    "    daily_usage = astronauts * 11\n",
    "    total_usage = daily_usage * days_left\n",
    "    total_water_left = water_left - total_usage\n",
    "    if total_water_left < 0:\n",
    "        raise RuntimeError(f\"There is not enough water for {astronauts} astronauts after {days_left} days!\")\n",
    "    return f\"Total water left after {days_left} days is: {total_water_left} liters\"'''\n"
   ]
  }
 ],
 "metadata": {
  "interpreter": {
   "hash": "2018ecb90513b3a4c40524d20ffc376e67ae595239360bb04ac9f68eddc07e82"
  },
  "kernelspec": {
   "display_name": "Python 3.10.2 64-bit",
   "language": "python",
   "name": "python3"
  },
  "language_info": {
   "codemirror_mode": {
    "name": "ipython",
    "version": 3
   },
   "file_extension": ".py",
   "mimetype": "text/x-python",
   "name": "python",
   "nbconvert_exporter": "python",
   "pygments_lexer": "ipython3",
   "version": "3.10.2"
  },
  "orig_nbformat": 4
 },
 "nbformat": 4,
 "nbformat_minor": 2
}
