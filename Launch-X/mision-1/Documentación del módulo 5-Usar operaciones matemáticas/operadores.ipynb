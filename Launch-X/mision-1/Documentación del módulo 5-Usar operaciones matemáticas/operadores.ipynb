{
 "cells": [
  {
   "cell_type": "markdown",
   "metadata": {},
   "source": [
    "# Operadores en Python"
   ]
  },
  {
   "cell_type": "code",
   "execution_count": 2,
   "metadata": {},
   "outputs": [
    {
     "name": "stdout",
     "output_type": "stream",
     "text": [
      "17\n",
      "22\n"
     ]
    }
   ],
   "source": [
    "# segundos en minutos\n",
    "'''seconds = 1042\n",
    "display_minutes = 1042 // 60\n",
    "display_seconds = 1042 % 60\n",
    "\n",
    "print(display_minutes)\n",
    "print(display_seconds)'''"
   ]
  },
  {
   "cell_type": "markdown",
   "metadata": {},
   "source": [
    "##### Orden de funcionamiento (Jerarquía de Operaciones)\n",
    "###### 1.- Paréntesis\n",
    "###### 2.- Exponentes\n",
    "###### 3.- Multiplicación y división\n",
    "###### 4.- Suma y resta"
   ]
  },
  {
   "cell_type": "code",
   "execution_count": 5,
   "metadata": {},
   "outputs": [
    {
     "name": "stdout",
     "output_type": "stream",
     "text": [
      "1084  -  1084\n"
     ]
    }
   ],
   "source": [
    "'''result_1 = 1032 + 26 * 2\n",
    "result_2 = 1032 + (26 * 2)\n",
    "print(result_1, \" - \",result_2)'''"
   ]
  },
  {
   "cell_type": "markdown",
   "metadata": {},
   "source": [
    "##### Trabajar con números en Python"
   ]
  },
  {
   "cell_type": "code",
   "execution_count": 6,
   "metadata": {},
   "outputs": [
    {
     "name": "stdout",
     "output_type": "stream",
     "text": [
      "215\n",
      "215.3\n"
     ]
    }
   ],
   "source": [
    "#Convertir cadenas en números\n",
    "'''demo_int = int('215')\n",
    "print(demo_int)\n",
    "\n",
    "demo_float = float('215.3')\n",
    "print(demo_float)'''"
   ]
  },
  {
   "cell_type": "code",
   "execution_count": 8,
   "metadata": {},
   "outputs": [
    {
     "name": "stdout",
     "output_type": "stream",
     "text": [
      "23  |  -23\n",
      "23\n",
      "23\n"
     ]
    }
   ],
   "source": [
    "#Valores absolutos\n",
    "'''a = 39 - 16\n",
    "b = 16 - 39\n",
    "print(a,\" | \",b)\n",
    "\n",
    "print(abs(39 - 16))\n",
    "print(abs(16 - 39))'''"
   ]
  },
  {
   "cell_type": "code",
   "execution_count": 9,
   "metadata": {},
   "outputs": [
    {
     "name": "stdout",
     "output_type": "stream",
     "text": [
      "14\n"
     ]
    }
   ],
   "source": [
    "#Redondeo\n",
    "'''print(round(14.5))'''"
   ]
  },
  {
   "cell_type": "code",
   "execution_count": 10,
   "metadata": {},
   "outputs": [
    {
     "name": "stdout",
     "output_type": "stream",
     "text": [
      "13\n",
      "12\n"
     ]
    }
   ],
   "source": [
    "#Biblioteca Math\n",
    "'''from math import ceil, floor\n",
    "\n",
    "round_up = ceil(12.5) #redondear siempre hacia arriba al número entero más cercano usando ceil\n",
    "print(round_up)\n",
    "\n",
    "round_down = floor(12.5) #o hacia abajo usando floor\n",
    "print(round_down)'''"
   ]
  },
  {
   "cell_type": "code",
   "execution_count": 3,
   "metadata": {},
   "outputs": [
    {
     "name": "stdout",
     "output_type": "stream",
     "text": [
      "1.6199999999999999\n",
      "1.62\n",
      "2\n",
      "1\n"
     ]
    }
   ],
   "source": [
    "#Biblioteca Math\n",
    "'''from math import ceil, floor\n",
    "\n",
    "x = .00162 * 1000\n",
    "print(x)\n",
    "\n",
    "print(round(x, 2))\n",
    "\n",
    "round_up = ceil(x) #redondear siempre hacia arriba al número entero más cercano usando ceil\n",
    "print(round_up)\n",
    "\n",
    "round_down = floor(x) #o hacia abajo usando floor\n",
    "print(round_down)'''"
   ]
  },
  {
   "cell_type": "markdown",
   "metadata": {},
   "source": [
    "# Ejercicios"
   ]
  },
  {
   "cell_type": "markdown",
   "metadata": {},
   "source": [
    "#### Ejercicio1 - Utilizar operadores aritméticos"
   ]
  },
  {
   "cell_type": "code",
   "execution_count": 15,
   "metadata": {},
   "outputs": [
    {
     "name": "stdout",
     "output_type": "stream",
     "text": [
      "<<<<<< Distancia de Tierra a Jupiter >>>>>\n",
      "628.9493299999999 en Km\n",
      "390.57753392999996 en mi\n"
     ]
    }
   ],
   "source": [
    "# crear un programa que pueda calcular la distancia entre dos planetas. Comenzaremos usando dos distancias de planetas:\n",
    "#  Tierra (149.597.870 km) y Júpiter (778.547.200 km).\n",
    "\n",
    "# Crear variables para almacenar las dos distancias\n",
    "# ¡Asegúrate de quitar las comas!\n",
    "earth = float(149.597870)\n",
    "jupy = float(778.547200)\n",
    "\n",
    "#Restarás el primer planeta del segundo para determinar la distancia en kilómetros. A continuación, puedes convertir la distancia \n",
    "# del kilómetro en millas multiplicándola por 0.621.\n",
    "# Calcular la distancia entre planetas\n",
    "distancia=earth-jupy\n",
    "print(\"<<<< Distancia de Tierra a Jupiter >>>\")\n",
    "print(abs(distancia),\"en km\")\n",
    "print(abs((distancia)* 0.621),\"en mi\")"
   ]
  },
  {
   "cell_type": "markdown",
   "metadata": {},
   "source": [
    "#### Ejercicio 2: convierte cadenas en números y usa valores absolutos"
   ]
  },
  {
   "cell_type": "code",
   "execution_count": 20,
   "metadata": {},
   "outputs": [
    {
     "name": "stdout",
     "output_type": "stream",
     "text": [
      "Distancia entre planetas:  50300000 km\n",
      "Distancia entre planetas:  31236300.0 mi\n"
     ]
    }
   ],
   "source": [
    "#leer la distancia del sol para dos planetas, y luego mostrar la distancia entre los planetas. Haremos esto usando input para leer \n",
    "# los valores, int para convertir a entero y luego abs para convertir el resultado en su valor absoluto.\n",
    "\n",
    "#Usando input, agrega el código para leer la distancia del sol para cada planeta, considerando 2 planetas.\n",
    "# Almacenar las entradas del usuario\n",
    "#Pista: variable = input(\"¿Cuál es tu nombre?\")\n",
    "\n",
    "distanciaUno = input(\"Introduce la distancia del sol a planeta 1 (en Km) : \")\n",
    "distanciaDos = input(\"Introduce la distancia del sol a planeta 2 (en Km) : \")\n",
    "\n",
    "# Convierte las cadenas de ambos planetas a números enteros\n",
    "distanciaUno =int(distanciaUno)\n",
    "distanciaDos=int(distanciaDos)\n",
    "\n",
    "#Restar el primer planeta del segundo. Debido a que el segundo planeta podría ser un número mayor, usarás abs para convertirlo a \n",
    "# un valor absoluto. También agregarás el código para mostrar el resultado en millas multiplicando la distancia del kilómetro\n",
    "# por 0.621\n",
    "# Realizar el cálculo y determinar el valor absoluto\n",
    "distanciaTotal=distanciaUno-distanciaDos\n",
    "distanciaTotal=abs(distanciaTotal)\n",
    "distanciaTotalM=abs((distanciaTotal)*0.621)\n",
    "# Convertir de KM a Millas\n",
    "print(\"Distancia entre planetas: \", distanciaTotal,\"km\")\n",
    "print(\"Distancia entre planetas: \", distanciaTotalM,\"mi\")"
   ]
  }
 ],
 "metadata": {
  "interpreter": {
   "hash": "2018ecb90513b3a4c40524d20ffc376e67ae595239360bb04ac9f68eddc07e82"
  },
  "kernelspec": {
   "display_name": "Python 3.10.2 64-bit",
   "language": "python",
   "name": "python3"
  },
  "language_info": {
   "codemirror_mode": {
    "name": "ipython",
    "version": 3
   },
   "file_extension": ".py",
   "mimetype": "text/x-python",
   "name": "python",
   "nbconvert_exporter": "python",
   "pygments_lexer": "ipython3",
   "version": "3.10.2"
  },
  "orig_nbformat": 4
 },
 "nbformat": 4,
 "nbformat_minor": 2
}
