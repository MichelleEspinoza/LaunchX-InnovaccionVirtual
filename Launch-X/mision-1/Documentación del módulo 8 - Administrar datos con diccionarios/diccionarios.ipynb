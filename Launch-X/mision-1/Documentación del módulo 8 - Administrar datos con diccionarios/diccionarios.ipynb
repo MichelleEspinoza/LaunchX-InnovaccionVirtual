{
 "cells": [
  {
   "cell_type": "markdown",
   "metadata": {},
   "source": [
    "# Diccionarios de Python"
   ]
  },
  {
   "cell_type": "code",
   "execution_count": 1,
   "metadata": {},
   "outputs": [
    {
     "name": "stdout",
     "output_type": "stream",
     "text": [
      "Earth\n",
      "Earth\n"
     ]
    }
   ],
   "source": [
    "planet = {\n",
    "    'name': 'Earth',\n",
    "    'moons': 1\n",
    "}\n",
    "\n",
    "print(planet.get('name')) # Muestra Earth\n",
    "\n",
    "# planet['name'] es idéntico a usar planet.get('name')\n",
    "print(planet['name'])\n",
    "\n",
    "# Muestra Earth\n",
    "\n",
    "#Aunque el comportamiento de get y los corchetes ([ ]) suele ser el mismo para recuperar elementos, \n",
    "# hay una diferencia principal. Si una clave no está disponible, get devuelve None y [ ] genera un error KeyError\n",
    "wibble = planet.get('wibble') # No regresa nada\n",
    "#wibble = planet['wibble'] # Arroja un KeyError\n",
    "\n",
    "planet.update({'name': 'Makemake'})  # name ahora es Makemake\n",
    "planet['name'] = 'Makemake' # name ahora es Makemake\n",
    "\n",
    "\n",
    "#En el ejemplo siguiente se hacen las mismas modificaciones en la variable planet y se actualizan el nombre y las lunas.\n",
    "# Ten en cuenta que al usar update realizas una sola llamada a la función, mientras que el uso de corchetes\n",
    "# implica dos llamadas.\n",
    "\n",
    "# Usando update\n",
    "planet.update({\n",
    "    'name': 'Jupiter',\n",
    "    'moons': 79\n",
    "})\n",
    "\n",
    "# Usando corchetes\n",
    "planet['name'] = 'Jupiter'\n",
    "planet['moons'] = 79\n"
   ]
  },
  {
   "cell_type": "code",
   "execution_count": 10,
   "metadata": {},
   "outputs": [
    {
     "name": "stdout",
     "output_type": "stream",
     "text": [
      "Jupiter polar diameter: 133709\n"
     ]
    }
   ],
   "source": [
    "# Adición y eliminación de claves\n",
    "#Imagina que quieres actualizar planet para incluir el período orbital en días:\n",
    "planet['orbital period'] = 4333\n",
    "\n",
    "# el diccionario planet ahora contiene: {\n",
    "#   name: 'jupiter'\n",
    "#   moons: 79\n",
    "#   orbital period: 4333\n",
    "# }\n",
    "\n",
    "# Para quitar una clave, usa pop. pop devuelve el valor y quita la clave del diccionario. Para eliminar orbital period,\n",
    "#  puedes usar el código siguiente:\n",
    "\n",
    "planet.pop('orbital period')\n",
    "\n",
    "# el diccionario planet ahora contiene: {\n",
    "#   name: 'jupiter'\n",
    "#   moons: 79\n",
    "# }\n",
    "\n",
    "# Tipos de data complejos\n",
    "# Puedes crear otro diccionario dentro de planet para almacenar esta información:\n",
    "# Añadimos los datos\n",
    "###planet['diameter (km)'] = {\n",
    "###    'polar': 133709,\n",
    "###    'equatorial': 142984\n",
    "###}\n",
    "###planet\n",
    "# el diccionario planet ahora contiene: {\n",
    "#   name: 'Jupiter'\n",
    "#   moons: 79\n",
    "#   diameter (km): {\n",
    "#      polar: 133709\n",
    "#      equatorial: 142984\n",
    "#   }\n",
    "# }\n",
    "#planet.get('wibble')\n",
    "# Para recuperar valores en un diccionario anidado, debe puedes utilizar corchetes [ ] o llamar a get.\n",
    "#print(f'{planet['name']} polar diameter: {planet['diameter (km)']['polar']}')\n",
    "print(planet['name'], \"polar diameter:\", planet['diameter (km)']['polar'])\n",
    "# Salida: Jupiter polar diameter: 133709"
   ]
  },
  {
   "cell_type": "code",
   "execution_count": null,
   "metadata": {},
   "outputs": [],
   "source": [
    "# Programación dinámica con diccionarios\n",
    "# Recuperación de todas las claves y valores\n",
    "# Imagina que tiene el siguiente diccionario, en el que se almacenan los últimos tres meses de precipitaciones (rainfall).\n",
    "\n",
    "rainfall = {\n",
    "    'october': 3.5,\n",
    "    'november': 4.2,\n",
    "    'december': 2.1\n",
    "}\n",
    "\n",
    "# Imagina que quiere mostrar la lista de todas las precipitaciones. Puedes escribir el nombre de cada mes,\n",
    "# pero sería tedioso, en este caso hacemos uso del método keys().\n",
    "\n",
    "for key in rainfall.keys():\n",
    "    print(f'{key}: {rainfall[key]}cm')\n",
    "\n",
    "# Salida:\n",
    "# october: 3.5cm\n",
    "# november: 4.2cm\n",
    "# december: 2.1cm\n",
    "\n"
   ]
  },
  {
   "cell_type": "markdown",
   "metadata": {},
   "source": [
    "##### Determinando la existencia de una clave en un diccionario\n",
    "##### Por ejemplo, si quieres agregar un valor a diciembre o crear uno si no existe, puedes usar lo siguiente:\n",
    "\n",
    "###### Si, 'december' existe en rainfall\n",
    "###### if 'december' in rainfall:\n",
    "######    # rainfall [en la posición december] es igual a\n",
    "######    # rainfall [en la posición december] + 1 (2.1+1)\n",
    "######    rainfall['december'] = rainfall['december'] + 1\n",
    "\n",
    "###### Si no:\n",
    "######else:\n",
    "\n",
    "######    # rainfall [en la posición december] es igual a 1\n",
    "######    rainfall['december'] = 1\n",
    "\n",
    "###### Como december si existe, el valor será 3.1\n",
    "\n",
    "\n",
    "\n",
    "##### Recuper todos los valores de un diccionario\n",
    "###### De forma similar a keys(), values() devuelve la lista de todos los valores de un diccionario \n",
    "###### sin sus claves correspondientes. Esto puede resultar útil cuando se usa la clave con fines de etiquetado,\n",
    "###### como en el ejemplo anterior, en el que las claves son el nombre del mes. Puedes usar values() para determinar el importe ###### total de las precipitaciones:\n",
    "\n",
    "###### #Total de precipitaciones 0\n",
    "###### total_rainfall = 0\n",
    "\n",
    "###### #Para cada valor en los valores de rainfall\n",
    "###### for value in rainfall.values():\n",
    "    \n",
    "######     #El total de las precipitaciones será igual a ese mismo + el valor que se está iterando\n",
    "\n",
    "######    total_rainfall = total_rainfall + value\n",
    "\n",
    "###### #Muestra 'Hay un total de precipitaciones (el valor total) en centímetros en el último cuarto (haciendo referencia al cuarto del año)\n",
    "\n",
    "###### print(f'There was {total_rainfall}cm in the last quarter')\n",
    "\n",
    "###### #Salida:\n",
    "###### #There was 10.8cm in the last quarter"
   ]
  },
  {
   "cell_type": "markdown",
   "metadata": {},
   "source": [
    "### Ejercicios"
   ]
  },
  {
   "cell_type": "markdown",
   "metadata": {},
   "source": [
    "#### Ejercicio 1: Creación de diccionarios de Python\n",
    "###### Ejercicio: Crear y modificar un diccionario de Python"
   ]
  },
  {
   "cell_type": "code",
   "execution_count": 16,
   "metadata": {},
   "outputs": [
    {
     "name": "stdout",
     "output_type": "stream",
     "text": [
      "Planeta:  Mars \n",
      "Número de lunas:  2 \n",
      "\n",
      "Planeta:  Mars \n",
      "Circunferencia polar:  6752\n"
     ]
    }
   ],
   "source": [
    "# Para este ejercicio, crearás un diccionario que almacene información sobre el planeta Marte.\n",
    "# Agrega el código para crear un nuevo diccionario denominado 'planet'. Rellena con la siguiente información:\n",
    "#name: Mars\n",
    "#moons: 2\n",
    "# Crea un diccionario llamado planet con los datos propuestos\n",
    "planet = { \n",
    "   'name': 'Mars',\n",
    "   'moons': 2 \n",
    "}\n",
    "#planet\n",
    "# Muestra el nombre del planeta y el número de lunas que tiene.\n",
    "print(\"Planeta: \",planet['name'],\"\\nNúmero de lunas: \",planet['moons'],'\\n')\n",
    "\n",
    "# Agrega la clave circunferencia con los datos proporcionados previamente\n",
    "planet = { \n",
    "   'name': 'Mars',\n",
    "   'moons': 2, \n",
    "   'circunferencia (km)':{\n",
    "      'polar': 6752,\n",
    "      'equatorial': 6792\n",
    "   }\n",
    "}\n",
    "# Imprime el nombre del planeta con su circunferencia polar.\n",
    "print(\"Planeta: \",planet['name'],\"\\nCircunferencia polar: \",planet['circunferencia (km)']['polar'])"
   ]
  },
  {
   "cell_type": "markdown",
   "metadata": {},
   "source": [
    "#### Ejercicio 2: Programación dinámica con diccionarios\n",
    "##### Ejercicio: Cálculo de valores"
   ]
  },
  {
   "cell_type": "code",
   "execution_count": 45,
   "metadata": {},
   "outputs": [
    {
     "name": "stdout",
     "output_type": "stream",
     "text": [
      "Promedio de lunas:  17.833333333333332\n"
     ]
    }
   ],
   "source": [
    "# En este escenario, calcularás tanto el número total de lunas en el sistema solar como el número promedio de lunas que\n",
    "#  tiene un planeta.\n",
    "# Planets and moons\n",
    "\n",
    "planet_moons = {\n",
    "    'mercury': 0,\n",
    "    'venus': 0,\n",
    "    'earth': 1,\n",
    "    'mars': 2,\n",
    "    'jupiter': 79,\n",
    "    'saturn': 82,\n",
    "    'uranus': 27,\n",
    "    'neptune': 14,\n",
    "    'pluto': 5,\n",
    "    'haumea': 2,\n",
    "    'makemake': 1,\n",
    "    'eris': 1\n",
    "}\n",
    "\n",
    "# Comienza almacenando el valor values de planet_moons en una variable denominada moons. A continuación, \n",
    "# almacena el número de planetas en una variable denominada planets.\n",
    "moons = planet_moons.values()\n",
    "planets = len(planet_moons.keys())\n",
    "total_moons = 0\n",
    "# Añade el código para determinar el número de lunas.\n",
    "# ciclo for para iterar a través de las lunas moons y agregándolos a una variable denominada total_moons. \n",
    "# Finalmente calcule el promedio dividiendo total_moons por planets e imprimiendo los resultados.\n",
    "for i in planet_moons.values():\n",
    "    total_moons = total_moons + i\n",
    "\n",
    "promedio = total_moons / planets\n",
    "print(\"Promedio de lunas: \", promedio)\n",
    "# Agrega el código para contar el número de lunas. "
   ]
  }
 ],
 "metadata": {
  "interpreter": {
   "hash": "2018ecb90513b3a4c40524d20ffc376e67ae595239360bb04ac9f68eddc07e82"
  },
  "kernelspec": {
   "display_name": "Python 3.10.2 64-bit",
   "language": "python",
   "name": "python3"
  },
  "language_info": {
   "codemirror_mode": {
    "name": "ipython",
    "version": 3
   },
   "file_extension": ".py",
   "mimetype": "text/x-python",
   "name": "python",
   "nbconvert_exporter": "python",
   "pygments_lexer": "ipython3",
   "version": "3.10.2"
  },
  "orig_nbformat": 4
 },
 "nbformat": 4,
 "nbformat_minor": 2
}
