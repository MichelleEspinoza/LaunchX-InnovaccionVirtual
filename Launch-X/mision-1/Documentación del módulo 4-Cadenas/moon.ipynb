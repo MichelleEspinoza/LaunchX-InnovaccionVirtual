{
 "cells": [
  {
   "cell_type": "markdown",
   "metadata": {},
   "source": [
    "# Conceptos básicos de cadenas en Python"
   ]
  },
  {
   "cell_type": "code",
   "execution_count": 1,
   "metadata": {},
   "outputs": [
    {
     "data": {
      "text/plain": [
       "'The Moon has no atmosphere.No sound can be heard on the Moon.'"
      ]
     },
     "execution_count": 1,
     "metadata": {},
     "output_type": "execute_result"
    }
   ],
   "source": [
    "'''fact = 'The Moon has no atmosphere.'\n",
    "fact + 'No sound can be heard on the Moon.''''"
   ]
  },
  {
   "cell_type": "code",
   "execution_count": 2,
   "metadata": {},
   "outputs": [
    {
     "data": {
      "text/plain": [
       "'The Moon has no atmosphere.'"
      ]
     },
     "execution_count": 2,
     "metadata": {},
     "output_type": "execute_result"
    }
   ],
   "source": [
    "'''fact'''"
   ]
  },
  {
   "cell_type": "code",
   "execution_count": 3,
   "metadata": {},
   "outputs": [
    {
     "data": {
      "text/plain": [
       "'The Moon has no atmosphere.No sound can be heard on the Moon.'"
      ]
     },
     "execution_count": 3,
     "metadata": {},
     "output_type": "execute_result"
    }
   ],
   "source": [
    "'''two_facts = fact + 'No sound can be heard on the Moon.'\n",
    "two_facts'''"
   ]
  },
  {
   "cell_type": "markdown",
   "metadata": {},
   "source": [
    "##### Comillas\n",
    "\n",
    "###### moon_radius = \"The Moon has a radius of 1,080 miles\"\n",
    "###### The \"near side\" is the part of the Moon that faces the Earth'\n",
    "###### \"We only see about 60% of the Moon's surface\"\n",
    "###### \"\"\"We only see about 60% of the Moon's surface, this is known as the \"near side\".\"\"\""
   ]
  },
  {
   "cell_type": "markdown",
   "metadata": {},
   "source": [
    "#### Texto multilínea"
   ]
  },
  {
   "cell_type": "code",
   "execution_count": 5,
   "metadata": {},
   "outputs": [
    {
     "name": "stdout",
     "output_type": "stream",
     "text": [
      "Facts about the Moon:\n",
      " There is no atmosphere.\n",
      " There is no sound.\n",
      "Facts about the Moon:\n",
      "...  There is no atmosphere.\n",
      "...  There is no sound.\n"
     ]
    }
   ],
   "source": [
    "'''multiline = \"Facts about the Moon:\\n There is no atmosphere.\\n There is no sound.\"\n",
    "print(multiline)\n",
    "\n",
    "multiline2 = \"\"\"Facts about the Moon:\n",
    "...  There is no atmosphere.\n",
    "...  There is no sound.\"\"\"\n",
    "print(multiline2)'''"
   ]
  },
  {
   "cell_type": "code",
   "execution_count": 7,
   "metadata": {},
   "outputs": [
    {
     "data": {
      "text/plain": [
       "'Temperatures And Facts About The Moon'"
      ]
     },
     "execution_count": 7,
     "metadata": {},
     "output_type": "execute_result"
    }
   ],
   "source": [
    "#Métodos string en Python\n",
    "''' 'temperatures and facts about the moon'.title()\n",
    "heading = 'temperatures and facts about the moon'\n",
    "heading.title()'''"
   ]
  },
  {
   "cell_type": "code",
   "execution_count": 11,
   "metadata": {},
   "outputs": [
    {
     "data": {
      "text/plain": [
       "['Daylight: 260 F', '... Nighttime: -280 F']"
      ]
     },
     "execution_count": 11,
     "metadata": {},
     "output_type": "execute_result"
    }
   ],
   "source": [
    "#Dividir una cadena\n",
    "## temperatures = '''Daylight: 260 F\n",
    "##... Nighttime: -280 F'''\n",
    "#temperatures .split()\n",
    "##temperatures .split('\\n')"
   ]
  },
  {
   "cell_type": "code",
   "execution_count": 1,
   "metadata": {},
   "outputs": [
    {
     "data": {
      "text/plain": [
       "68"
      ]
     },
     "execution_count": 1,
     "metadata": {},
     "output_type": "execute_result"
    }
   ],
   "source": [
    "#Buscar una cadena\n",
    "    #'Moon' in 'This text will describe facts and challenges with space travel'\n",
    "    #'Moon' in 'This text will describe facts about the Moon'\n",
    "\n",
    "##temperatures = \"\"\"Saturn has a daytime temperature of -170 degrees Celsius,\n",
    "##... while Mars has -28 Celsius.\"\"\"\n",
    "    #temperatures.find('Moon') #El método .find() devuelve -1 un cuando no se encuentra la palabra o devuelve el índice \n",
    "                                # (el número que representa el lugar en la cadena).\n",
    "##temperatures.find('Mars') #68 es la posición donde aparece en la cadena 'Mars'.\n",
    "#temperatures.count('Mars') #número total de apariciones, Python distinguen entre mayúsculas y minúsculas\n",
    "\n",
    "# Otra forma de buscar contenido es usar el método .count(), \n",
    "# que devuelve el número total de apariciones de una determinada palabra en una cadena: temperatures.count('Mars')\n"
   ]
  },
  {
   "cell_type": "code",
   "execution_count": 16,
   "metadata": {},
   "outputs": [
    {
     "data": {
      "text/plain": [
       "'the moon and the earth'"
      ]
     },
     "execution_count": 16,
     "metadata": {},
     "output_type": "execute_result"
    }
   ],
   "source": [
    "''' \"The Moon And The Earth\".lower() #minusculas, .upper()- mayusculas '''"
   ]
  },
  {
   "cell_type": "code",
   "execution_count": 2,
   "metadata": {},
   "outputs": [
    {
     "data": {
      "text/plain": [
       "' -60 C'"
      ]
     },
     "execution_count": 2,
     "metadata": {},
     "output_type": "execute_result"
    }
   ],
   "source": [
    "#Comprobar el contenido\n",
    "'''temperatures = 'Mars Average Temperature: -60 C'\n",
    "#Para extraer la temperatura promedio en Marte (Mars), puedes hacerlo con los siguientes métodos:\n",
    "parts = temperatures.split(':')\n",
    "parts      #Salida: ['Mars average temperature', ' -60 C']\n",
    "parts[-1]  #Salida: ' -60 C' '''"
   ]
  },
  {
   "cell_type": "code",
   "execution_count": 6,
   "metadata": {},
   "outputs": [
    {
     "name": "stdout",
     "output_type": "stream",
     "text": [
      "30\n"
     ]
    }
   ],
   "source": [
    "#Si el texto es irregular, no puedes usar los mismos métodos de división para obtener el valor. Debes iterar por todos los \n",
    "# elementos y comprobar si los valores son de un tipo determinado. Python tiene métodos que ayudan a comprobar el tipo de cadena:\n",
    "'''mars_temperature = 'The highest temperature on Mars is about 30 C'\n",
    "for item in mars_temperature.split():\n",
    "    if item.isnumeric(): #si es numerico lo muestra, en caso de descimales .isdecimal(),\n",
    "        print(item) '''\n",
    "\n",
    "#Para los números negativos: '-60'.startswith('-')\n",
    "#.endswith() ayuda a verificar el último carácter de una cadena:\n",
    "#if \"30 C\".endswith(\"C\"):\n",
    "#    print(\"This temperature is in Celsius\")\n"
   ]
  },
  {
   "cell_type": "code",
   "execution_count": 20,
   "metadata": {},
   "outputs": [
    {
     "data": {
      "text/plain": [
       "'Saturn has a daytime temperature of -170 degrees C, while Mars has -28 C.'"
      ]
     },
     "execution_count": 20,
     "metadata": {},
     "output_type": "execute_result"
    }
   ],
   "source": [
    "#Transformar texto\n",
    "'Saturn has a daytime temperature of -170 degrees Celsius, while Mars has -28 Celsius.'.replace('Celsius', 'C')\n",
    "\n",
    "#normalizar el texto con lower\n",
    "''' text = 'Temperatures on the Moon can vary wildly.'\n",
    "    #'temperatures' in text #false\n",
    "'temperatures' in text.lower() #true '''"
   ]
  },
  {
   "cell_type": "code",
   "execution_count": 7,
   "metadata": {},
   "outputs": [
    {
     "data": {
      "text/plain": [
       "'The Moon is drifting away from the Earth.\\nOn average, the Moon is moving about 4cm every year'"
      ]
     },
     "execution_count": 7,
     "metadata": {},
     "output_type": "execute_result"
    }
   ],
   "source": [
    "#unir\n",
    "#.join() requiere un iterable (como una lista) como argumento, por lo que su uso se ve diferente de otros métodos de cadena:\n",
    "'''moon_facts = ['The Moon is drifting away from the Earth.', 'On average, the Moon is moving about 4cm every year']\n",
    "'\\n'.join(moon_facts)'''"
   ]
  },
  {
   "cell_type": "markdown",
   "metadata": {},
   "source": [
    "##### Formato de cadenas en Python"
   ]
  },
  {
   "cell_type": "code",
   "execution_count": 22,
   "metadata": {},
   "outputs": [
    {
     "name": "stdout",
     "output_type": "stream",
     "text": [
      "On the Moon, you would weigh about 1/6 of your weight on Earth\n"
     ]
    }
   ],
   "source": [
    "#Formato con signo de porcentaje (%)\n",
    "'''mass_percentage = '1/6'\n",
    "print('On the Moon, you would weigh about %s of your weight on Earth' % mass_percentage)'''"
   ]
  },
  {
   "cell_type": "code",
   "execution_count": 23,
   "metadata": {},
   "outputs": [
    {
     "name": "stdout",
     "output_type": "stream",
     "text": [
      "Both sides of the Moon get the same amount of sunlight,\n",
      "    but only one side is seen from Earth because\n",
      "    the Moon rotates around its own axis when it orbits Earth.\n"
     ]
    }
   ],
   "source": [
    "##print(\"\"\"Both sides of the %s get the same amount of sunlight,\n",
    "##    but only one side is seen from %s because\n",
    "##    the %s rotates around its own axis when it orbits %s.\"\"\" % ('Moon', 'Earth', 'Moon', 'Earth'))"
   ]
  },
  {
   "cell_type": "code",
   "execution_count": 24,
   "metadata": {},
   "outputs": [
    {
     "name": "stdout",
     "output_type": "stream",
     "text": [
      "On the Moon, you would weigh about 1/6 of your weight on Earth\n"
     ]
    }
   ],
   "source": [
    "#El método format()\n",
    "'''mass_percentage = '1/6'\n",
    "print('On the Moon, you would weigh about {} of your weight on Earth'.format(mass_percentage))'''"
   ]
  },
  {
   "cell_type": "code",
   "execution_count": 25,
   "metadata": {},
   "outputs": [
    {
     "name": "stdout",
     "output_type": "stream",
     "text": [
      "You are lighter on the Moon, because on the Moon \n",
      "you would weigh about 1/6 of your weight on Earth\n"
     ]
    }
   ],
   "source": [
    "##print(\"\"\"You are lighter on the {0}, because on the {0} \n",
    "##... you would weigh about {1} of your weight on Earth\"\"\".format(\"Moon\", mass_percentage))"
   ]
  },
  {
   "cell_type": "code",
   "execution_count": 26,
   "metadata": {},
   "outputs": [
    {
     "name": "stdout",
     "output_type": "stream",
     "text": [
      "You are lighter on the Moon, because on the Moon \n",
      "you would weigh about 1/6 of your weight on Earth\n"
     ]
    }
   ],
   "source": [
    "##print(\"\"\"You are lighter on the {moon}, because on the {moon} \n",
    "##... you would weigh about {mass} of your weight on Earth\"\"\".format(moon=\"Moon\", mass=mass_percentage))"
   ]
  },
  {
   "cell_type": "code",
   "execution_count": 27,
   "metadata": {},
   "outputs": [
    {
     "name": "stdout",
     "output_type": "stream",
     "text": [
      "On the Moon, you would weigh about 1/6 of your weight on Earth\n"
     ]
    }
   ],
   "source": [
    "#Acerca de las cadenas con f\n",
    "#Las variables van dentro de llaves y la cadena debe usar el prefijo f\n",
    "'''print(f'On the Moon, you would weigh about {mass_percentage} of your weight on Earth')'''"
   ]
  },
  {
   "cell_type": "code",
   "execution_count": 8,
   "metadata": {},
   "outputs": [
    {
     "name": "stdout",
     "output_type": "stream",
     "text": [
      "On the Moon, you would weigh about 16.7% of your weight on Earth\n"
     ]
    },
    {
     "data": {
      "text/plain": [
       "'Interesting Facts About The Moon'"
      ]
     },
     "execution_count": 8,
     "metadata": {},
     "output_type": "execute_result"
    }
   ],
   "source": [
    "#Con las cadenas f, no es necesario asignar un valor a una variable de antemano:\n",
    "'''print(f'On the Moon, you would weigh about {round(100/6, 1)}% of your weight on Earth')\n",
    "\n",
    "#con titulos funciona\n",
    "subject = 'interesting facts about the moon'\n",
    "f'{subject.title()}' '''"
   ]
  },
  {
   "cell_type": "markdown",
   "metadata": {},
   "source": [
    "# EJERCICIOS"
   ]
  },
  {
   "cell_type": "markdown",
   "metadata": {},
   "source": [
    "#### Ejercicio 1: Transformar cadenas"
   ]
  },
  {
   "cell_type": "code",
   "execution_count": 71,
   "metadata": {},
   "outputs": [
    {
     "name": "stdout",
     "output_type": "stream",
     "text": [
      "\n",
      "<< Datos sobre la luna relacionados con palabras pista >>\n",
      "\n",
      "\n",
      "\"On average, the Moon moves 4cm away from the Earth every year\n",
      "The highest daylight temperature of the Moon is 127 C.\n",
      "\n",
      "<< Datos sobre la luna C a Celsius >>\n",
      "\n",
      "\n",
      "\"On average, the Moon moves 4cm away from the Earth every year\n",
      "The highest daylight temperature of the Moon is 127 C.\n"
     ]
    }
   ],
   "source": [
    "# En este ejercicio, usarás métodos de cadena para modificar el texto con hechos sobre la Luna y luego extraerás información para crear\n",
    "# un breve resumen.\n",
    "text = \"\"\"Interesting facts about the Moon. The Moon is Earth's only satellite. There are several interesting facts about the Moon and how it affects life here on Earth. \\n\",\n",
    "\"On average, the Moon moves 4cm away from the Earth every year. This yearly drift is not significant enough to cause immediate effects on Earth. The highest daylight temperature of the Moon is 127 C.\"\"\"\n",
    "\n",
    "# Primero, divide el texto en cada oración para trabajar con su contenido:\n",
    "# Divide el texto\n",
    "# Añade el código necesario\n",
    "text_div = text.split('. ')         \n",
    "\n",
    "# Ahora, define algunas palabras clave para búsqueda que te ayudarán a determinar si una oración contiene un hecho.\n",
    "# Define las palabras pista: average, temperature y distance suenan bien  \n",
    "text_clave = [\"average\", \"temperature\", \"distance\"]\n",
    "\n",
    "# Crea un bucle para imprimir solo datos sobre la Luna que estén relacionados con las palabras clave definidas anteriormente:\n",
    "# Ciclo for para recorrer la cadena\n",
    "print(\"\\n<< Datos sobre la luna relacionados con palabras pista >>\")\n",
    "for oracion in text_div:\n",
    "    for clave in text_clave:\n",
    "        if clave in oracion:\n",
    "            print(oracion.replace('\",', ''))\n",
    "            break\n",
    "# Finalmente, actualiza el bucle(ciclo) para cambiar C a Celsius:\n",
    "# Ciclo para cambiar C a Celsius\n",
    "print(\"\\n<< Datos sobre la luna C a Celsius >>\")\n",
    "for oracion in text_div:\n",
    "    for key_word in text_clave:\n",
    "        if key_word in oracion:\n",
    "            print(oracion.replace('\",', '') or oracion.replace(' C', ' Celsius'))\n",
    "            break"
   ]
  },
  {
   "cell_type": "markdown",
   "metadata": {},
   "source": [
    "#### Ejercicio 2: Formateando Cadenas"
   ]
  },
  {
   "cell_type": "code",
   "execution_count": 87,
   "metadata": {},
   "outputs": [
    {
     "name": "stdout",
     "output_type": "stream",
     "text": [
      "=>Datos De Gravedad De : Moon \n",
      "\n",
      "   Nombre del planeta: Earth \n",
      "   Gravedad en: Moon: 1.6199999999999999 m/s2 \n",
      " \n",
      "\n",
      "=>Datos De Gravedad De : Moon \n",
      "\n",
      "   Nombre del planeta: Earth \n",
      "   Gravedad en: Moon: 1.6199999999999999 m/s2 \n",
      " \n",
      "\n",
      "\n",
      "=> Datos de Gravedad de: Saturno              \n",
      "                                             \n",
      "   Nombre del planeta: Marte                  \n",
      "   Gravedad en Saturno: 1.4300000000000002 m/s2           \n",
      "\n"
     ]
    }
   ],
   "source": [
    "# En este ejercicio, se utilizan variables que contienen datos clave sobre la gravedad en varias lunas y luego se utilizan para\n",
    "# dar formato e imprimir la información.\n",
    "#El formato tiene que acomodar información sobre otras lunas, por lo que debe ser genérico.\n",
    "\n",
    "# Datos con los que vas a trabajar\n",
    "name = \"Moon\"\n",
    "gravity = 0.00162 # in kms\n",
    "planet = \"Earth\"\n",
    "\n",
    "#Primero, crea un título para el texto. Debido a que este texto trata sobre la gravedad en la Tierra y la Luna, úsalo para crear un\n",
    "# título significativo. Utiliza las variables en lugar de escribir.\n",
    "# Creamos el título\n",
    "titulo = f'=>Datos de gravedad de : {name}'\n",
    "\n",
    "#Ahora crea una plantilla de cadena multilínea para contener el resto de la información. En lugar de usar kilómetros, debes convertir \n",
    "# la distancia a metros multiplicando por 1,000.\n",
    "# Creamos la plantilla\n",
    "descripcion = f\"\"\"\n",
    "   Nombre del planeta: {planet} \n",
    "   Gravedad en: {name}: {gravity * 1000} m/s2 \n",
    "\"\"\"\n",
    "# Unión de ambas cadenas\n",
    "informacion = f\"\"\"{titulo.title()} \n",
    "{descripcion} \n",
    "\"\"\" \n",
    "print(informacion)\n",
    "####Ahora usa información de una luna diferente para ver si la plantilla todavía funciona.\n",
    "####Datos muestra:\n",
    "planet = 'Marte '\n",
    "gravity  = 0.00143\n",
    "name = 'Saturno'\n",
    "\n",
    "# Comprueba la plantilla\n",
    "# print(nombre_plantilla)\n",
    "print(informacion)\n",
    "\n",
    "#La salida no muestra información sobre Marte. Todavía muestra información sobre la Luna. Esto sucede porque las cadenas f están \n",
    "# ansiosas en su evaluación, por lo que las variables una vez asignadas no se pueden reasignar. Para evitar este problema, vuelva a \n",
    "# hacer la plantilla para utilizar .format():\n",
    "# Nueva plantilla\n",
    "nueva_informacion = \"\"\"\n",
    "=> Datos de Gravedad de: {name}              \n",
    "                                             \n",
    "   Nombre del planeta: {planet}                 \n",
    "   Gravedad en {name}: {gravity} m/s2           \n",
    "\"\"\"\n",
    "\n",
    "#Debido a que .format() no permite expresiones, la gravedad en Ganímedes es incorrecta. Asegúrese de que la operación se realiza fuera\n",
    "#  de la plantilla de formato e imprima de nuevo para ver el resultado de trabajo.\n",
    "# Pista: print(nueva_plantilla.format(variables))\n",
    "print(nueva_informacion.format(name=name, planet=planet, gravity=gravity*1000))"
   ]
  }
 ],
 "metadata": {
  "interpreter": {
   "hash": "2018ecb90513b3a4c40524d20ffc376e67ae595239360bb04ac9f68eddc07e82"
  },
  "kernelspec": {
   "display_name": "Python 3.10.2 64-bit",
   "language": "python",
   "name": "python3"
  },
  "language_info": {
   "codemirror_mode": {
    "name": "ipython",
    "version": 3
   },
   "file_extension": ".py",
   "mimetype": "text/x-python",
   "name": "python",
   "nbconvert_exporter": "python",
   "pygments_lexer": "ipython3",
   "version": "3.10.2"
  },
  "orig_nbformat": 4
 },
 "nbformat": 4,
 "nbformat_minor": 2
}
