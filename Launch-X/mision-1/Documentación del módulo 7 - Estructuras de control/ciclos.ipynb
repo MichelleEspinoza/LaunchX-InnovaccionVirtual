{
 "cells": [
  {
   "cell_type": "markdown",
   "metadata": {},
   "source": [
    "# Estructuras de control"
   ]
  },
  {
   "cell_type": "markdown",
   "metadata": {},
   "source": [
    "## While"
   ]
  },
  {
   "cell_type": "code",
   "execution_count": 1,
   "metadata": {},
   "outputs": [],
   "source": [
    "''' user_input = ''\n",
    "\n",
    "while user_input.lower() != 'done':\n",
    "    user_input = input('Enter a new value, or done when done') '''"
   ]
  },
  {
   "cell_type": "code",
   "execution_count": 3,
   "metadata": {},
   "outputs": [
    {
     "data": {
      "text/plain": [
       "['michi', 'juan', 'evelin', 'docky']"
      ]
     },
     "execution_count": 3,
     "metadata": {},
     "output_type": "execute_result"
    }
   ],
   "source": [
    "# Creamos la variable que almacena el texto\n",
    "'''user_input = ''\n",
    "# Creamos la lista que almacena cada uno de los textos que el usuario ingresa\n",
    "inputs = []\n",
    "\n",
    "# Ciclo while\n",
    "while user_input.lower() != 'done':  #verificamos que cumple con la condición\n",
    "    # Verificamos si hay un valor en user_input\n",
    "    if user_input:\n",
    "        # Almacenamos ese valor en la lista\n",
    "        inputs.append(user_input)\n",
    "    # Capturamos un nuevo valor\n",
    "    user_input = input('Enter a new value, or done when done')\n",
    "inputs#ver datos '''"
   ]
  },
  {
   "cell_type": "markdown",
   "metadata": {},
   "source": [
    "## for"
   ]
  },
  {
   "cell_type": "code",
   "execution_count": 5,
   "metadata": {},
   "outputs": [
    {
     "name": "stdout",
     "output_type": "stream",
     "text": [
      "4\n",
      "3\n",
      "2\n",
      "1\n",
      "0\n",
      "Blast off!! 🚀\n"
     ]
    }
   ],
   "source": [
    "#  Hace una cuenta atrás, de 4 a 0:\n",
    "#countdown = [4, 3, 2, 1, 0]\n",
    "#for number in countdown:\n",
    "#    print(number)\n",
    "#print(\"Blast off!! 🚀\")\n",
    "\n",
    "# Espera un segundo entre cada número mediante la función sleep():\n",
    "'''from time import sleep # biblioteca para poder usar sleep\n",
    "\n",
    "# Creamos una lista de 5 números llamada countdown\n",
    "countdown = [4, 3, 2, 1, 0]\n",
    "\n",
    "# Para cada número en countdown\n",
    "for number in countdown:\n",
    "    #Muestra el número\n",
    "    print(number)\n",
    "\n",
    "    # Espera (1segundo)\n",
    "    sleep(1)\n",
    "\n",
    "# Muestra el mensaje Blast off\n",
    "print(\"Blast off!! 🚀\") '''"
   ]
  },
  {
   "cell_type": "markdown",
   "metadata": {},
   "source": [
    "# Ejercicios"
   ]
  },
  {
   "cell_type": "markdown",
   "metadata": {},
   "source": [
    "### Ejercicio 1: Creación de un bucle \"while\""
   ]
  },
  {
   "cell_type": "code",
   "execution_count": 11,
   "metadata": {},
   "outputs": [
    {
     "data": {
      "text/plain": [
       "['luna', 'jupiter', 'marte']"
      ]
     },
     "execution_count": 11,
     "metadata": {},
     "output_type": "execute_result"
    }
   ],
   "source": [
    "# Aplicación que solicita a un usuario que ingrese una lista de planetas. En un ejercicio posterior, \n",
    "# agregarás código que muestre la lista. \n",
    "# Por ahora, crearás solo el código que solicita al usuario la lista de planetas.\n",
    "\n",
    "# Comienza agregando dos variables, una para la entrada del usuario, con el nombre new_planet, y \n",
    "# otra variable para la lista de planetas, denominada planets.\n",
    "# Declara dos variables\n",
    "\n",
    "new_planet=''\n",
    "planets = []\n",
    "\n",
    "# crearás un ciclo while. El ciclo while se ejecutará mientras el new_planet no sea igual a la palabra 'done'.\n",
    "# Dentro del ciclo, comprobarás si la variable new_planet contiene un valor, que debería ser el nombre de un planeta. \n",
    "# Esta es una forma rápida de ver si el usuario ha introducido un valor. Si lo han hecho, tu código agregará (append) ese valor\n",
    "#  a la variable planets.\n",
    "# Finalmente, usarás input para solicitar al usuario que ingrese un nuevo nombre de planeta o que escriba done si ha terminado \n",
    "# de ingresar nombres de planeta. Almacenará el valor de input en la variable new_planet.\n",
    "# Escribe el ciclo while solicitado\n",
    "while new_planet.lower() != 'done':\n",
    "    if new_planet:\n",
    "        planets.append((new_planet.lower()))\n",
    "    new_planet = input('Introduce un nombre de planeta, o escribe \"done\" si desea finalizar: ')\n",
    "planets"
   ]
  },
  {
   "cell_type": "markdown",
   "metadata": {},
   "source": [
    "#### Ejercicio 2: Creación de un ciclo \"for\""
   ]
  },
  {
   "cell_type": "code",
   "execution_count": 17,
   "metadata": {},
   "outputs": [
    {
     "name": "stdout",
     "output_type": "stream",
     "text": [
      "<< Planetas introduciones por el usuario >>\n",
      " * luna\n",
      " * jupiter\n",
      " * marte\n"
     ]
    }
   ],
   "source": [
    "#Mostrar la lista de los planetas\n",
    "# Crea un ciclo for para iterar sobre la lista planets. \n",
    "# Puedes usar como nombre de la variable planet para cada planeta. Dentro del ciclo for, recuerda utilizar print para mostrar\n",
    "#  cada planet.\n",
    "# Escribe tu ciclo for para iterar en una lista de planetas\n",
    "print(\"<< Planetas introduciones por el usuario >>\")\n",
    "for planet in planets:\n",
    "    print(\" *\", planet)"
   ]
  }
 ],
 "metadata": {
  "interpreter": {
   "hash": "2018ecb90513b3a4c40524d20ffc376e67ae595239360bb04ac9f68eddc07e82"
  },
  "kernelspec": {
   "display_name": "Python 3.10.2 64-bit",
   "language": "python",
   "name": "python3"
  },
  "language_info": {
   "codemirror_mode": {
    "name": "ipython",
    "version": 3
   },
   "file_extension": ".py",
   "mimetype": "text/x-python",
   "name": "python",
   "nbconvert_exporter": "python",
   "pygments_lexer": "ipython3",
   "version": "3.10.2"
  },
  "orig_nbformat": 4
 },
 "nbformat": 4,
 "nbformat_minor": 2
}
