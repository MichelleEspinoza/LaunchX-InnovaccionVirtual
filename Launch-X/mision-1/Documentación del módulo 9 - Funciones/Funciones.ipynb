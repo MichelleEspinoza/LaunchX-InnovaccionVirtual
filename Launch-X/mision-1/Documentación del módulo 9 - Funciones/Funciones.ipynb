{
 "cells": [
  {
   "cell_type": "markdown",
   "metadata": {},
   "source": [
    "# Funciones"
   ]
  },
  {
   "cell_type": "code",
   "execution_count": 3,
   "metadata": {},
   "outputs": [
    {
     "data": {
      "text/plain": [
       "''"
      ]
     },
     "execution_count": 3,
     "metadata": {},
     "output_type": "execute_result"
    }
   ],
   "source": [
    "'''def rocket_parts():\n",
    "    return 'payload, propellant, structure'\n",
    "\n",
    "output = rocket_parts()\n",
    "output'''\n",
    "\n",
    "# Esta función toma un objeto iterable (por ejemplo, una lista) y devuelve True si algún elemento del objeto iterable \n",
    "# es True. De lo contrario, devuelve False.\n",
    "# Si llamamos a any() sin ningún argumento, se genera una excepción útil. El mensaje de error explica que necesita al\n",
    "#  menos un argumento:\n",
    "'''any([True, False, False])'''\n",
    "\n",
    "# Esta función crea una cadena a partir de un argumento. Si no se pasa ningún argumento, devuelve una cadena vacía:\n",
    "'''str()'''\n",
    "#str(15)"
   ]
  },
  {
   "cell_type": "code",
   "execution_count": 7,
   "metadata": {},
   "outputs": [
    {
     "data": {
      "text/plain": [
       "132.69722222222222"
      ]
     },
     "execution_count": 7,
     "metadata": {},
     "output_type": "execute_result"
    }
   ],
   "source": [
    "# Exigencia de un argumento\n",
    "'''def distance_from_earth(destination):\n",
    "    if destination == 'Moon':\n",
    "        return '238,855'\n",
    "    else:\n",
    "        return 'Unable to compute to that destination'\n",
    "\n",
    "distance_from_earth('Saturn')'''\n",
    "\n",
    "\n",
    "# Varios argumentos necesarios\n",
    "'''def days_to_complete(distance, speed):\n",
    "    hours = distance/speed\n",
    "    return hours/24\n",
    "\n",
    "days_to_complete(238855, 75)'''"
   ]
  },
  {
   "cell_type": "code",
   "execution_count": 8,
   "metadata": {},
   "outputs": [
    {
     "data": {
      "text/plain": [
       "133"
      ]
     },
     "execution_count": 8,
     "metadata": {},
     "output_type": "execute_result"
    }
   ],
   "source": [
    "# funciones como argumentos\n",
    "'''total_days = days_to_complete(238855, 75)\n",
    "round(total_days)'''\n",
    "\n",
    "# Pero un patrón útil es pasar funciones a otras funciones en lugar de asignar el valor devuelto:\n",
    "'''round(days_to_complete(238855, 75)) #pero es menos legible entre mas argumentos.'''\n"
   ]
  },
  {
   "cell_type": "code",
   "execution_count": 12,
   "metadata": {},
   "outputs": [
    {
     "data": {
      "text/plain": [
       "'Orbit Arrival: Wednesday 21:41'"
      ]
     },
     "execution_count": 12,
     "metadata": {},
     "output_type": "execute_result"
    }
   ],
   "source": [
    "#Uso de argumentos de palabra clave en Python\n",
    "'''from datetime import timedelta, datetime\n",
    "\n",
    "def arrival_time(hours=51):\n",
    "    now = datetime.now()\n",
    "    arrival = now + timedelta(hours=hours) #timedelta para permitir la operación de suma que da resultado un objeto de hora.\n",
    "    return arrival.strftime('Arrival: %A %H:%M')\n",
    "\n",
    "arrival_time()'''\n",
    "#arrival_time(hours=0)\n",
    "\n",
    "#Combinación de argumentos y argumentos de palabra clave\n",
    "'''from datetime import timedelta, datetime\n",
    "\n",
    "def arrival_time(destination, hours=51):\n",
    "    now = datetime.now()\n",
    "    arrival = now + timedelta(hours=hours)\n",
    "    return arrival.strftime(f'{destination} Arrival: %A %H:%M')'''\n",
    "\n",
    "# Dado que hemos agregado un argumento necesario, ya no es posible llamar a la función sin ningún argumento:\n",
    "# arrival_time()\n",
    "# Traceback (most recent call last):\n",
    "#  File '<stdin>', line 1, in <module>\n",
    "# TypeError: arrival_time() missing 1 required positional argument: 'destination'\n",
    "\n",
    "# Usamos 'Moon' como valor para destination a fin de evitar el error:\n",
    "# arrival_time('Moon')\n",
    "\n",
    "# Podemos pasar más de dos valores, pero debemos separarlos con una coma. \n",
    "'''arrival_time('Orbit', hours=0.13)'''"
   ]
  },
  {
   "cell_type": "code",
   "execution_count": 18,
   "metadata": {},
   "outputs": [
    {
     "name": "stdout",
     "output_type": "stream",
     "text": [
      "3 astronauts assigned for this mission:\n",
      "captain: Neil Armstrong\n",
      "pilot: Buzz Aldrin\n",
      "command_pilot: Michael Collins\n"
     ]
    }
   ],
   "source": [
    "# Uso de argumentos de V A R I A B L E en Python\n",
    "'''def variable_length(*args):\n",
    "    print(args)'''\n",
    "# No es necesario denominar a los argumentos de variable args. Puedes usar cualquier nombre de variable válido.\n",
    "#  Aunque es habitual ver *args o a, debe intentar usar la misma convención en un proyecto.\n",
    "\n",
    "#*args indica a la función que acepta cualquier número de argumentos (incluido 0) y almacena como tupla.\n",
    "'''variable_length()\n",
    "()\n",
    "variable_length('one', 'two')\n",
    "('one', 'two')\n",
    "variable_length(None)\n",
    "(None,)'''\n",
    "\n",
    "#ejemplo\n",
    "'''def sequence_time(*args):\n",
    "    total_minutes = sum(args)\n",
    "    if total_minutes < 60:\n",
    "        return f'Total time to launch is {total_minutes} minutes'\n",
    "    else:\n",
    "        return f'Total time to launch is {total_minutes/60} hours' '''\n",
    "# Probamos la función pasando cualquier número de minutos:\n",
    "'''sequence_time(4, 14, 18)'''\n",
    "\n",
    "# Argumentos de palabra C L A V E   V A R I A B L E\n",
    "'''def variable_length(**kwargs):\n",
    "    print(kwargs)\n",
    "\n",
    "variable_length(tanks=1, day='Wednesday', pilots=3)  #Para interactuar con las variables y los valores, \n",
    "{'tanks': 1, 'day': 'Wednesday', 'pilots': 3}        #usamos las mismas operaciones que un diccionario. '''\n",
    "\n",
    "\n",
    "#ejemplo\n",
    "'''def crew_members(**kwargs):\n",
    "    print(f'{len(kwargs)} astronauts assigned for this mission:')\n",
    "    for title, name in kwargs.items():\n",
    "        print(f'{title}: {name}')'''\n",
    "\n",
    "'''crew_members(captain='Neil Armstrong', pilot='Buzz Aldrin', command_pilot='Michael Collins')'''\n",
    "\n",
    "# Dado que puede pasar cualquier combinación de argumentos de palabra clave, nos aseguramos de evitar palabras clave repetidas. \n",
    "# Las palabras clave repetidas producirán un error:\n",
    "\n",
    "#crew_members(captain='Neil Armstrong', pilot='Buzz Aldrin', pilot='Michael Collins')\n",
    "#  File '<stdin>', line 1\n",
    "# SyntaxError: keyword argument repeated: pilot\n"
   ]
  },
  {
   "cell_type": "markdown",
   "metadata": {},
   "source": [
    "### Ejercicios"
   ]
  },
  {
   "cell_type": "markdown",
   "metadata": {},
   "source": [
    "##### Ejercicio 1: Trabajar con argumentos en funciones"
   ]
  },
  {
   "cell_type": "code",
   "execution_count": 79,
   "metadata": {},
   "outputs": [
    {
     "name": "stdout",
     "output_type": "stream",
     "text": [
      "C o m b u s t i b l e\n",
      "Tanque_1:  12 \n",
      "Tanque_2:  33 \n",
      "Tanque_3:  22\n",
      "Promedio de combustible:  22.333333333333332\n"
     ]
    }
   ],
   "source": [
    "# En este ejercicio, construirás un informe de combustible que requiere información de varias ubicaciones de combustible \n",
    "# en todo el cohete.\n",
    "# Comienza por crear una función que necesite tres lecturas de combustible y devuelva un informe:\n",
    "# Función para leer 3 tanques de combustible y muestre el promedio\n",
    "def combustible(Tanque_1,Tanque_2,Tanque_3):\n",
    "    print(\"C o m b u s t i b l e\")\n",
    "    print('Tanque_1: ',Tanque_1,'\\nTanque_2: ',Tanque_2,'\\nTanque_3: ',Tanque_3)\n",
    "    print(\"Promedio de combustible: \", promedio([Tanque_1,Tanque_2,Tanque_3]))\n",
    "# Ahora que hemos definido la función de informes, vamos a comprobarlo. Para esta misión, los tanques no están llenos:\n",
    "# Llamamos a la función que genera el reporte print(funcion(tanque1, tanque2, tanque3))\n",
    "\n",
    "combustible(12, 33, 22)\n",
    "\n",
    "# Función promedio \n",
    "def promedio(values):\n",
    "    total=sum(values)/len(values)\n",
    "    return total\n"
   ]
  },
  {
   "cell_type": "markdown",
   "metadata": {},
   "source": [
    "##### Ejercicio 2: Trabajo con argumentos de palabra clave\n",
    "###### Ejercicio : Trabajar con argumentos de palabras clave en funciones"
   ]
  },
  {
   "cell_type": "code",
   "execution_count": 44,
   "metadata": {},
   "outputs": [
    {
     "name": "stdout",
     "output_type": "stream",
     "text": [
      "\n",
      "*********************************************************************\n",
      "            Destino de la Mision: Saturno\n",
      "Hora de prelanzamiento: 18\n",
      "Tiempo_de_vuelo: 45\n",
      "Nivel de combustible en Tanque Externo:3000\n",
      "Nivel de combustible en Tanque Interno: 6000\n",
      "*********************************************************************\n",
      "\n",
      "*********************************************************************\n",
      "            Destino de la Mision: Saturno\n",
      "Tiempo estimado de la mision(minutos):102\n",
      "Nivel de combustible en Tanque izquierdo: 2900\n",
      "*********************************************************************\n",
      "\n",
      "*********************************************************************\n",
      "            Destino de la Mision: Marte\n",
      "Tiempo estimado de la mision(minutos):45\n",
      "Nivel de combustible en total: 656\n",
      "Tanque Interno : 500\n",
      "Tanque Externo : 156\n",
      "*********************************************************************\n"
     ]
    }
   ],
   "source": [
    "#Comienza por crear una función que creará un informe preciso de la misión:\n",
    "# Función con un informe preciso de la misión. Considera hora de prelanzamiento, \n",
    "# tiempo de vuelo, destino, tanque externo y tanque interno\n",
    "def informe(hora_de_prelanzamiento,tiempo_de_vuelo, destino, tanque_externo, tanque_interno):\n",
    "    print(f'''\n",
    "*********************************************************************\n",
    "            Destino de la Mision: {destino}\n",
    "Hora de prelanzamiento: {hora_de_prelanzamiento}\n",
    "Tiempo_de_vuelo: {tiempo_de_vuelo}\n",
    "Nivel de combustible en Tanque Externo:{tanque_externo}\n",
    "Nivel de combustible en Tanque Interno: {tanque_interno}\n",
    "*********************************************************************''')\n",
    "\n",
    "informe(18, 45, \"Saturno\", 3000, 6000)\n",
    "\n",
    "\n",
    "# Escribe tu nueva función de reporte considerando lo anterior\n",
    "def informe_Minutos(destino, *minutes, **fuel_reservoirs):\n",
    "    print(f'''\n",
    "*********************************************************************\n",
    "            Destino de la Mision: {destino}\n",
    "Tiempo estimado de la mision(minutos):{sum(minutes)}\n",
    "Nivel de combustible en Tanque izquierdo: {sum(fuel_reservoirs.values())}\n",
    "*********************************************************************''')\n",
    "\n",
    "informe_Minutos(\"Saturno\", 19, 30, 53, main=1900, external=1000)\n",
    "\n",
    "# Debido a que el combustible que queda en los tanques es específico de cada tanque, actualiza la función para usar\n",
    "#  el nombre de cada tanque en el informe:\n",
    "# Escribe tu nueva función\n",
    "def reporte_tanques(destino, *minutes, **fuel_reservoirs):\n",
    "    reporte=(f'''\n",
    "*********************************************************************\n",
    "            Destino de la Mision: {destino}\n",
    "Tiempo estimado de la mision(minutos):{sum(minutes)}\n",
    "Nivel de combustible en total: {sum(fuel_reservoirs.values())}\n",
    "''')\n",
    "    for tanques, combustible in fuel_reservoirs.items():\n",
    "        reporte += (f'Tanque {tanques} : {combustible}\\n')\n",
    "    reporte += '*********************************************************************'\n",
    "    return reporte\n",
    "\n",
    "print(reporte_tanques(\"Marte\", 8, 11, 26, Interno=500, Externo=156))"
   ]
  }
 ],
 "metadata": {
  "interpreter": {
   "hash": "2018ecb90513b3a4c40524d20ffc376e67ae595239360bb04ac9f68eddc07e82"
  },
  "kernelspec": {
   "display_name": "Python 3.10.2 64-bit",
   "language": "python",
   "name": "python3"
  },
  "language_info": {
   "codemirror_mode": {
    "name": "ipython",
    "version": 3
   },
   "file_extension": ".py",
   "mimetype": "text/x-python",
   "name": "python",
   "nbconvert_exporter": "python",
   "pygments_lexer": "ipython3",
   "version": "3.10.2"
  },
  "orig_nbformat": 4
 },
 "nbformat": 4,
 "nbformat_minor": 2
}
